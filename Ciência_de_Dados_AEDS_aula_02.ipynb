{
  "nbformat": 4,
  "nbformat_minor": 0,
  "metadata": {
    "colab": {
      "name": "Ciência de Dados-AEDS aula 02.ipynb",
      "version": "0.3.2",
      "provenance": [],
      "collapsed_sections": [],
      "include_colab_link": true
    },
    "kernelspec": {
      "name": "python3",
      "display_name": "Python 3"
    }
  },
  "cells": [
    {
      "cell_type": "markdown",
      "metadata": {
        "id": "view-in-github",
        "colab_type": "text"
      },
      "source": [
        "<a href=\"https://colab.research.google.com/github/srgiojr/ciencia_de_dados/blob/master/Ci%C3%AAncia_de_Dados_AEDS_aula_02.ipynb\" target=\"_parent\"><img src=\"https://colab.research.google.com/assets/colab-badge.svg\" alt=\"Open In Colab\"/></a>"
      ]
    },
    {
      "cell_type": "markdown",
      "metadata": {
        "id": "sS4ULuc0mZbO",
        "colab_type": "text"
      },
      "source": [
        "#Ciência de Dados-AEDS aula 02\n",
        "\n",
        "\n"
      ]
    },
    {
      "cell_type": "markdown",
      "metadata": {
        "id": "qgq9ILftoWNl",
        "colab_type": "text"
      },
      "source": [
        "1 - Printar se o valor é positivo, menor que zero ou igual a zero"
      ]
    },
    {
      "cell_type": "code",
      "metadata": {
        "id": "d5EFKMPGmfRE",
        "colab_type": "code",
        "colab": {
          "base_uri": "https://localhost:8080/",
          "height": 34
        },
        "outputId": "63feb211-60b0-4512-cc1d-c94397541b18"
      },
      "source": [
        "numero = int(input('Digite um valor'))"
      ],
      "execution_count": 3,
      "outputs": [
        {
          "output_type": "stream",
          "text": [
            "Digite um valor1\n"
          ],
          "name": "stdout"
        }
      ]
    },
    {
      "cell_type": "code",
      "metadata": {
        "id": "qR29FHNmnnFk",
        "colab_type": "code",
        "colab": {}
      },
      "source": [
        ""
      ],
      "execution_count": 0,
      "outputs": []
    },
    {
      "cell_type": "code",
      "metadata": {
        "id": "Rzd2-JTXmoBC",
        "colab_type": "code",
        "colab": {
          "base_uri": "https://localhost:8080/",
          "height": 34
        },
        "outputId": "150012a5-41df-480b-e2f8-c1c6060507ae"
      },
      "source": [
        "if(numero>0) : \n",
        "  print('O numero é positivo')\n",
        "if(numero <0): \n",
        "  print('O numero é menor que zero')\n",
        "if( numero==0): \n",
        "  print('o numero é zero')"
      ],
      "execution_count": 7,
      "outputs": [
        {
          "output_type": "stream",
          "text": [
            "O numero é positivo\n"
          ],
          "name": "stdout"
        }
      ]
    },
    {
      "cell_type": "markdown",
      "metadata": {
        "id": "AJkL6mrDojC6",
        "colab_type": "text"
      },
      "source": [
        "2 - Faça um programa que verique se a entrada digitada é \"F\" ou \"M\". De acorod com a letra escreva F - Feminino e M - Masculino"
      ]
    },
    {
      "cell_type": "code",
      "metadata": {
        "id": "WZXENz4xoscb",
        "colab_type": "code",
        "colab": {
          "base_uri": "https://localhost:8080/",
          "height": 34
        },
        "outputId": "e9f80b45-cf78-4ed2-b696-3df11531b3b1"
      },
      "source": [
        "letra = str(input('Digite a letra'))"
      ],
      "execution_count": 16,
      "outputs": [
        {
          "output_type": "stream",
          "text": [
            "Digite a letram\n"
          ],
          "name": "stdout"
        }
      ]
    },
    {
      "cell_type": "code",
      "metadata": {
        "id": "mkmNJcpFoyvp",
        "colab_type": "code",
        "colab": {
          "base_uri": "https://localhost:8080/",
          "height": 34
        },
        "outputId": "d2a7d953-35f5-4046-f15f-41cb30295ae1"
      },
      "source": [
        "if(letra=='f'): \n",
        "  print('F - Feminino')\n",
        "if(letra=='m'): \n",
        "  print('M - Masculino')"
      ],
      "execution_count": 18,
      "outputs": [
        {
          "output_type": "stream",
          "text": [
            "M - Masculino\n"
          ],
          "name": "stdout"
        }
      ]
    },
    {
      "cell_type": "markdown",
      "metadata": {
        "id": "iaKeW4y8qqAx",
        "colab_type": "text"
      },
      "source": [
        "Melhoramento no código otimizando através de verificações atendidas, através de menos comandos executados\n",
        "\n"
      ]
    },
    {
      "cell_type": "code",
      "metadata": {
        "id": "awLuYgSmpi6l",
        "colab_type": "code",
        "colab": {
          "base_uri": "https://localhost:8080/",
          "height": 34
        },
        "outputId": "6870bef6-8a97-4c2a-83f1-69e95075a921"
      },
      "source": [
        "if(letra=='f'): \n",
        "  print('F - feminino')\n",
        "elif(letra=='m'): \n",
        "  print('M - Masculino')\n",
        "else: \n",
        "  print('não reconheci o texto digitado')"
      ],
      "execution_count": 19,
      "outputs": [
        {
          "output_type": "stream",
          "text": [
            "M - Masculino\n"
          ],
          "name": "stdout"
        }
      ]
    },
    {
      "cell_type": "markdown",
      "metadata": {
        "id": "MN2zZ_ImrQuL",
        "colab_type": "text"
      },
      "source": [
        "3 - Faça um programa que verifica se uma letra é vogal ou consoante"
      ]
    },
    {
      "cell_type": "code",
      "metadata": {
        "id": "Mejao9dqrYxt",
        "colab_type": "code",
        "colab": {
          "base_uri": "https://localhost:8080/",
          "height": 34
        },
        "outputId": "a9102c73-5217-4d1d-c892-66749f892d69"
      },
      "source": [
        "letra=input('Digite uma letra')"
      ],
      "execution_count": 27,
      "outputs": [
        {
          "output_type": "stream",
          "text": [
            "Digite uma letrab\n"
          ],
          "name": "stdout"
        }
      ]
    },
    {
      "cell_type": "code",
      "metadata": {
        "id": "7IOnMrDbreP8",
        "colab_type": "code",
        "colab": {
          "base_uri": "https://localhost:8080/",
          "height": 34
        },
        "outputId": "283352cc-204a-46ef-b76e-8950794f9203"
      },
      "source": [
        "vogais=['a','e','i','o','u']\n",
        "if letra in vogais: \n",
        "  print('Vogal')\n",
        "else:\n",
        "  print('Consoante')\n"
      ],
      "execution_count": 28,
      "outputs": [
        {
          "output_type": "stream",
          "text": [
            "Consoante\n"
          ],
          "name": "stdout"
        }
      ]
    },
    {
      "cell_type": "markdown",
      "metadata": {
        "id": "xpfVNYwHtIqT",
        "colab_type": "text"
      },
      "source": [
        "4 - Faça um programa que leia 3 números e mostre-os em ordem descrescente"
      ]
    },
    {
      "cell_type": "code",
      "metadata": {
        "id": "FLEuGwPTuEpp",
        "colab_type": "code",
        "colab": {
          "base_uri": "https://localhost:8080/",
          "height": 68
        },
        "outputId": "b26536e1-dcb7-4ac5-ffbb-5a2f968de8ac"
      },
      "source": [
        "pri= int(input())\n",
        "seg=int(input())\n",
        "ter=int(input())"
      ],
      "execution_count": 40,
      "outputs": [
        {
          "output_type": "stream",
          "text": [
            "1\n",
            "2\n",
            "3\n"
          ],
          "name": "stdout"
        }
      ]
    },
    {
      "cell_type": "code",
      "metadata": {
        "id": "o6YiMYI8vFea",
        "colab_type": "code",
        "colab": {
          "base_uri": "https://localhost:8080/",
          "height": 34
        },
        "outputId": "0b38cbe9-2448-490e-ab61-f8a70d74b100"
      },
      "source": [
        "print(pri, seg, ter)"
      ],
      "execution_count": 31,
      "outputs": [
        {
          "output_type": "stream",
          "text": [
            "1 2 3\n"
          ],
          "name": "stdout"
        }
      ]
    },
    {
      "cell_type": "code",
      "metadata": {
        "id": "6-5RnbG6vL8i",
        "colab_type": "code",
        "colab": {
          "base_uri": "https://localhost:8080/",
          "height": 34
        },
        "outputId": "1dd34a3e-74c7-429a-b6cd-b2593573850e"
      },
      "source": [
        "if pri > seg and pri > ter: \n",
        "  print(ter, seg, pri)\n",
        "elif pri > seg and pri < ter:\n",
        "  print(seg, pri, ter)\n",
        "elif pri < seg and pri < ter and seg < ter:\n",
        "  print(pri, seg, ter)\n"
      ],
      "execution_count": 42,
      "outputs": [
        {
          "output_type": "stream",
          "text": [
            "1 2 3\n"
          ],
          "name": "stdout"
        }
      ]
    },
    {
      "cell_type": "markdown",
      "metadata": {
        "id": "dOJEK1UMxmvE",
        "colab_type": "text"
      },
      "source": [
        "Outra maneira"
      ]
    },
    {
      "cell_type": "code",
      "metadata": {
        "id": "yiczvyakxpH7",
        "colab_type": "code",
        "colab": {
          "base_uri": "https://localhost:8080/",
          "height": 85
        },
        "outputId": "a3ba98cd-7455-418d-e707-919b17d192c9"
      },
      "source": [
        "pri= int(input())\n",
        "seg=int(input())\n",
        "ter=int(input())\n",
        "\n",
        "listanumeros=[pri,seg,ter]\n",
        "listaordenada= sorted(listanumeros, reverse=True)\n",
        "print(listaordenada)"
      ],
      "execution_count": 57,
      "outputs": [
        {
          "output_type": "stream",
          "text": [
            "42\n",
            "2\n",
            "124\n",
            "[124, 42, 2]\n"
          ],
          "name": "stdout"
        }
      ]
    },
    {
      "cell_type": "markdown",
      "metadata": {
        "id": "RqX1fT6otf4L",
        "colab_type": "text"
      },
      "source": [
        "5 - A organização Tabajara te contratou para desenvolver um programa que calcula reajuste no salário. O programa deverá calcular o reajuste com base nos seguintes critérios:\n",
        "\n",
        "Até 300 - 20% de aumento,\n",
        "301 a 700 - 15%,\n",
        "701 a 1500 - 10%,\n",
        "1501 ou + - 5%,"
      ]
    },
    {
      "cell_type": "code",
      "metadata": {
        "id": "rS7_vpGbuw6P",
        "colab_type": "code",
        "colab": {
          "base_uri": "https://localhost:8080/",
          "height": 34
        },
        "outputId": "8c6a49ef-2392-4a42-d34c-8e985c17f501"
      },
      "source": [
        "sal= float(input('Salário = '))"
      ],
      "execution_count": 84,
      "outputs": [
        {
          "output_type": "stream",
          "text": [
            "Salário = 200\n"
          ],
          "name": "stdout"
        }
      ]
    },
    {
      "cell_type": "code",
      "metadata": {
        "id": "ZiTUq7scsimd",
        "colab_type": "code",
        "colab": {}
      },
      "source": [
        "if (sal <= 300): \n",
        "  sal=sal*1.2\n",
        "if(sal>300 and sal<=700): \n",
        "  sal=sal*1.5\n",
        "if(sal>700 and sal<= 1500):\n",
        "  sal=sal*1.1\n",
        "if(sal>1500):\n",
        "  sal=sal*1.05\n",
        "  \n"
      ],
      "execution_count": 0,
      "outputs": []
    },
    {
      "cell_type": "markdown",
      "metadata": {
        "id": "y_y1szmA-oz6",
        "colab_type": "text"
      },
      "source": [
        "## 6 - Considerando o que você possui 3 lados de um triângulo. Verifique se esses formam um triângulo. Indique também se ele é quilátero, isócele ou escaleno.\n",
        "\n",
        "- Três lados formam um triângulo quando a soma de quaisquer dois lados for maior que o terceiro;\n",
        "\n",
        "- Triângulo equilátero três lados iguais\n",
        "- Triângulo Isóceles quaisquer dois lados Iguais\n",
        "- Triângulo escaleno 3 lados diferentes"
      ]
    },
    {
      "cell_type": "code",
      "metadata": {
        "id": "cwFTLD0C-ejH",
        "colab_type": "code",
        "colab": {
          "base_uri": "https://localhost:8080/",
          "height": 68
        },
        "outputId": "e8c96443-0217-4abf-a325-f2091837b2b2"
      },
      "source": [
        "lad1 = float(input())\n",
        "lad2=float(input())\n",
        "lad3 = float(input())"
      ],
      "execution_count": 121,
      "outputs": [
        {
          "output_type": "stream",
          "text": [
            "3\n",
            "2\n",
            "1\n"
          ],
          "name": "stdout"
        }
      ]
    },
    {
      "cell_type": "code",
      "metadata": {
        "id": "17SD44mKsMXy",
        "colab_type": "code",
        "colab": {
          "base_uri": "https://localhost:8080/",
          "height": 51
        },
        "outputId": "3b80d4a5-cf6d-433b-8986-ea6ebf4ec248"
      },
      "source": [
        "if lad1+lad2 > lad3 or lad1+lad3 > lad2 or lad2+lad3 > lad1:\n",
        "  print('Sim')\n",
        "  \n",
        "if lad1 == lad2 and lad2 == lad3: \n",
        "  print('Equilátero')\n",
        "if lad1 == lad2 or lad1 == lad3 or lad2 == lad3:\n",
        "  print('Isóceles')\n",
        "if lad1 != lad2 and lad1 != lad2 and lad3 != lad2:\n",
        "  print('Escaleno')"
      ],
      "execution_count": 122,
      "outputs": [
        {
          "output_type": "stream",
          "text": [
            "Sim\n",
            "Escaleno\n"
          ],
          "name": "stdout"
        }
      ]
    },
    {
      "cell_type": "markdown",
      "metadata": {
        "id": "WLqjQL7pHYOV",
        "colab_type": "text"
      },
      "source": [
        "## 7 - Procure as regras para que um ano seja bissexto. Verifique se os anos de 2012, 13, 14, 15 e 16 são"
      ]
    },
    {
      "cell_type": "code",
      "metadata": {
        "id": "zdXtDiXWFERo",
        "colab_type": "code",
        "colab": {
          "base_uri": "https://localhost:8080/",
          "height": 34
        },
        "outputId": "97d238fb-84e2-443d-ddea-1ac6db53e9ca"
      },
      "source": [
        "ano = int(input())\n"
      ],
      "execution_count": 131,
      "outputs": [
        {
          "output_type": "stream",
          "text": [
            "2015\n"
          ],
          "name": "stdout"
        }
      ]
    },
    {
      "cell_type": "code",
      "metadata": {
        "id": "ZzaJtYCOsFeM",
        "colab_type": "code",
        "colab": {
          "base_uri": "https://localhost:8080/",
          "height": 34
        },
        "outputId": "e710b08f-755e-4a68-c06c-178060280996"
      },
      "source": [
        "if ano % 100 != 0 and ano % 4 == 0 or ano % 400 == 0:\n",
        "  print('É um ano bissexto')\n",
        "else:\n",
        "  print('Não é bissexto')"
      ],
      "execution_count": 132,
      "outputs": [
        {
          "output_type": "stream",
          "text": [
            "Não é bissexto\n"
          ],
          "name": "stdout"
        }
      ]
    },
    {
      "cell_type": "code",
      "metadata": {
        "id": "4fensPmzr_8K",
        "colab_type": "code",
        "colab": {}
      },
      "source": [
        ""
      ],
      "execution_count": 0,
      "outputs": []
    },
    {
      "cell_type": "code",
      "metadata": {
        "id": "ybOaEgYCrofs",
        "colab_type": "code",
        "colab": {}
      },
      "source": [
        ""
      ],
      "execution_count": 0,
      "outputs": []
    },
    {
      "cell_type": "code",
      "metadata": {
        "id": "oTPOZ84PqaRx",
        "colab_type": "code",
        "colab": {}
      },
      "source": [
        ""
      ],
      "execution_count": 0,
      "outputs": []
    },
    {
      "cell_type": "code",
      "metadata": {
        "id": "YBXN2SnppRnx",
        "colab_type": "code",
        "colab": {}
      },
      "source": [
        ""
      ],
      "execution_count": 0,
      "outputs": []
    },
    {
      "cell_type": "code",
      "metadata": {
        "id": "h6MR3KmTpLej",
        "colab_type": "code",
        "colab": {}
      },
      "source": [
        ""
      ],
      "execution_count": 0,
      "outputs": []
    },
    {
      "cell_type": "code",
      "metadata": {
        "id": "COo-Wyp-pFgd",
        "colab_type": "code",
        "colab": {}
      },
      "source": [
        ""
      ],
      "execution_count": 0,
      "outputs": []
    },
    {
      "cell_type": "code",
      "metadata": {
        "id": "qUpPYi-PpCRJ",
        "colab_type": "code",
        "colab": {}
      },
      "source": [
        ""
      ],
      "execution_count": 0,
      "outputs": []
    },
    {
      "cell_type": "code",
      "metadata": {
        "id": "kEOEUYc3oBtp",
        "colab_type": "code",
        "colab": {}
      },
      "source": [
        ""
      ],
      "execution_count": 0,
      "outputs": []
    },
    {
      "cell_type": "code",
      "metadata": {
        "id": "yalLwMe-oADh",
        "colab_type": "code",
        "colab": {}
      },
      "source": [
        ""
      ],
      "execution_count": 0,
      "outputs": []
    },
    {
      "cell_type": "code",
      "metadata": {
        "id": "9P10KOESn5Ks",
        "colab_type": "code",
        "colab": {}
      },
      "source": [
        ""
      ],
      "execution_count": 0,
      "outputs": []
    },
    {
      "cell_type": "code",
      "metadata": {
        "id": "JFTWAs7snsRQ",
        "colab_type": "code",
        "colab": {}
      },
      "source": [
        ""
      ],
      "execution_count": 0,
      "outputs": []
    },
    {
      "cell_type": "code",
      "metadata": {
        "id": "72yk7APdnUFh",
        "colab_type": "code",
        "colab": {}
      },
      "source": [
        ""
      ],
      "execution_count": 0,
      "outputs": []
    },
    {
      "cell_type": "code",
      "metadata": {
        "id": "ETrttlL0nKRg",
        "colab_type": "code",
        "colab": {}
      },
      "source": [
        ""
      ],
      "execution_count": 0,
      "outputs": []
    },
    {
      "cell_type": "code",
      "metadata": {
        "id": "tO8e3m__mXDz",
        "colab_type": "code",
        "colab": {}
      },
      "source": [
        ""
      ],
      "execution_count": 0,
      "outputs": []
    }
  ]
}